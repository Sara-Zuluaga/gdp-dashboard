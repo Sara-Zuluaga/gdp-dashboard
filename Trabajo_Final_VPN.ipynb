{
  "nbformat": 4,
  "nbformat_minor": 0,
  "metadata": {
    "colab": {
      "provenance": [],
      "authorship_tag": "ABX9TyPWAeIbqDBegdOQi4bCw8CP",
      "include_colab_link": true
    },
    "kernelspec": {
      "name": "python3",
      "display_name": "Python 3"
    },
    "language_info": {
      "name": "python"
    }
  },
  "cells": [
    {
      "cell_type": "markdown",
      "metadata": {
        "id": "view-in-github",
        "colab_type": "text"
      },
      "source": [
        "<a href=\"https://colab.research.google.com/github/Sara-Zuluaga/gdp-dashboard/blob/main/Trabajo_Final_VPN.ipynb\" target=\"_parent\"><img src=\"https://colab.research.google.com/assets/colab-badge.svg\" alt=\"Open In Colab\"/></a>"
      ]
    },
    {
      "cell_type": "code",
      "source": [
        "clientes=[\"Juan Perez\", \"Maria Rodriguez\", \"Carlos Lopez\", \"Ana Gomez\"]\n",
        "\n",
        "montos_invertidos=[10000, 15000, 20000, 18000]\n",
        "\n",
        "rendimientos=[5.5, 6.0, 4.0, 7.5]\n",
        "\n",
        "print(clientes, montos_invertidos, rendimientos)"
      ],
      "metadata": {
        "colab": {
          "base_uri": "https://localhost:8080/"
        },
        "id": "m-GI4wb5bEPt",
        "outputId": "cac09b97-403d-49b3-e4b7-8e81b9c8383f"
      },
      "execution_count": 1,
      "outputs": [
        {
          "output_type": "stream",
          "name": "stdout",
          "text": [
            "['Juan Perez', 'Maria Rodriguez', 'Carlos Lopez', 'Ana Gomez'] [10000, 15000, 20000, 18000] [5.5, 6.0, 4.0, 7.5]\n"
          ]
        }
      ]
    }
  ]
}